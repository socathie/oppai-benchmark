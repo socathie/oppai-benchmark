{
 "cells": [
  {
   "cell_type": "code",
   "execution_count": null,
   "metadata": {},
   "outputs": [],
   "source": [
    "import os\n",
    "os.environ['TF_CPP_MIN_LOG_LEVEL'] = '3'\n",
    "os.environ['CUDA_VISIBLE_DEVICES'] = ''\n",
    "\n",
    "import keras_cv\n",
    "import tensorflow as tf"
   ]
  },
  {
   "cell_type": "code",
   "execution_count": null,
   "metadata": {},
   "outputs": [],
   "source": [
    "model = keras_cv.models.StableDiffusion(\n",
    "    img_width=512, img_height=512, jit_compile=False\n",
    ")"
   ]
  },
  {
   "cell_type": "code",
   "execution_count": null,
   "metadata": {},
   "outputs": [],
   "source": [
    "unet = model.diffusion_model\n",
    "\n",
    "unet.summary()"
   ]
  },
  {
   "cell_type": "code",
   "execution_count": null,
   "metadata": {},
   "outputs": [],
   "source": [
    "layers = [\"spatial_transformer\", \"spatial_transformer_2\", \"spatial_transformer_4\", \"spatial_transformer_6\"]"
   ]
  },
  {
   "cell_type": "code",
   "execution_count": null,
   "metadata": {},
   "outputs": [],
   "source": [
    "import tf2onnx\n",
    "\n",
    "i = 0\n",
    "# detect all layers with name starting with \"spatial_transformer\"\n",
    "for layer in unet.layers:\n",
    "    if layer.name in layers:\n",
    "        inputs = [\n",
    "            tf.keras.Input(shape=layer.input[0].shape.as_list()[1:], name=\"input_0\"),\n",
    "            tf.keras.Input(shape=layer.input[1].shape.as_list()[1:], name=\"context\"),\n",
    "        ]\n",
    "        specs = [\n",
    "            tf.TensorSpec([1]+inputs[0].shape.as_list()[1:], inputs[0].dtype, name=inputs[0].name),\n",
    "            tf.TensorSpec([1]+inputs[1].shape.as_list()[1:], inputs[1].dtype, name=inputs[1].name),\n",
    "        ]\n",
    "        nchw = [inputs[0].name]\n",
    "\n",
    "        outputs = layer(inputs)\n",
    "        model_i = tf.keras.Model(inputs=inputs, outputs=outputs, name=layer.name)\n",
    "        tf2onnx.convert.from_keras(\n",
    "            model_i,\n",
    "            input_signature=specs,\n",
    "            inputs_as_nchw=nchw,\n",
    "            opset=18,\n",
    "            output_path=f'{layer.name}/model.onnx'\n",
    "        )"
   ]
  },
  {
   "cell_type": "code",
   "execution_count": null,
   "metadata": {},
   "outputs": [],
   "source": [
    "inputs = [\n",
    "    tf.keras.Input(shape=unet.input[0].shape.as_list()[1:], name=\"latent\"),\n",
    "    tf.keras.Input(shape=unet.input[1].shape.as_list()[1:], name=\"timestep_embedding\"),\n",
    "    tf.keras.Input(shape=unet.input[2].shape.as_list()[1:], name=\"context\"),\n",
    "]\n",
    "specs = [\n",
    "    tf.TensorSpec([1]+inputs[0].shape.as_list()[1:], inputs[0].dtype, name=inputs[0].name),\n",
    "    tf.TensorSpec([1]+inputs[1].shape.as_list()[1:], inputs[1].dtype, name=inputs[1].name),\n",
    "    tf.TensorSpec([1]+inputs[2].shape.as_list()[1:], inputs[2].dtype, name=inputs[2].name),\n",
    "]\n",
    "nchw = [inputs[0].name]\n",
    "\n",
    "tf2onnx.convert.from_keras(\n",
    "    unet,\n",
    "    input_signature=specs,\n",
    "    inputs_as_nchw=nchw,\n",
    "    opset=18,\n",
    "    output_path=f'unet.onnx'\n",
    ")"
   ]
  },
  {
   "cell_type": "code",
   "execution_count": null,
   "metadata": {},
   "outputs": [],
   "source": []
  }
 ],
 "metadata": {
  "kernelspec": {
   "display_name": "oppai",
   "language": "python",
   "name": "python3"
  },
  "language_info": {
   "codemirror_mode": {
    "name": "ipython",
    "version": 3
   },
   "file_extension": ".py",
   "mimetype": "text/x-python",
   "name": "python",
   "nbconvert_exporter": "python",
   "pygments_lexer": "ipython3",
   "version": "3.10.13"
  }
 },
 "nbformat": 4,
 "nbformat_minor": 2
}
