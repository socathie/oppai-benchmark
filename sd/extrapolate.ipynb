{
 "cells": [
  {
   "cell_type": "code",
   "execution_count": 1,
   "metadata": {},
   "outputs": [
    {
     "name": "stderr",
     "output_type": "stream",
     "text": [
      "/var/folders/gt/sg3v8rd13l52jx91mfbgzbfc0000gn/T/ipykernel_37895/1566173301.py:2: DeprecationWarning: \n",
      "Pyarrow will become a required dependency of pandas in the next major release of pandas (pandas 3.0),\n",
      "(to allow more performant data types, such as the Arrow string type, and better interoperability with other libraries)\n",
      "but was not found to be installed on your system.\n",
      "If this would cause problems for you,\n",
      "please provide us feedback at https://github.com/pandas-dev/pandas/issues/54466\n",
      "        \n",
      "  import pandas as pd\n"
     ]
    }
   ],
   "source": [
    "import re\n",
    "import pandas as pd"
   ]
  },
  {
   "cell_type": "code",
   "execution_count": 2,
   "metadata": {},
   "outputs": [],
   "source": [
    "with open(\"ezkl_settings.out\", 'r') as f:\n",
    "    content = f.read()\n",
    "    rows = re.findall(r'model uses (\\d+) rows', content)"
   ]
  },
  {
   "cell_type": "code",
   "execution_count": 3,
   "metadata": {},
   "outputs": [],
   "source": [
    "params = [2546240, 9188480, 34760960, 34760960, 859520964]"
   ]
  },
  {
   "cell_type": "code",
   "execution_count": 4,
   "metadata": {},
   "outputs": [],
   "source": [
    "df = pd.DataFrame({'params': params})\n",
    "\n",
    "df['rows'] = [int(row) for row in rows] + [None]"
   ]
  },
  {
   "cell_type": "code",
   "execution_count": 5,
   "metadata": {},
   "outputs": [],
   "source": [
    "df['params_pct'] = df['params'] / df['params'].iloc[-1]"
   ]
  },
  {
   "cell_type": "code",
   "execution_count": 6,
   "metadata": {},
   "outputs": [],
   "source": [
    "df['row_estimate'] = df['rows'] / df['params_pct']"
   ]
  },
  {
   "cell_type": "code",
   "execution_count": 7,
   "metadata": {},
   "outputs": [
    {
     "name": "stderr",
     "output_type": "stream",
     "text": [
      "/var/folders/gt/sg3v8rd13l52jx91mfbgzbfc0000gn/T/ipykernel_37895/2349657401.py:1: FutureWarning: ChainedAssignmentError: behaviour will change in pandas 3.0!\n",
      "You are setting values through chained assignment. Currently this works in certain cases, but when using Copy-on-Write (which will become the default behaviour in pandas 3.0) this will never work to update the original DataFrame or Series, because the intermediate object on which we are setting values will behave as a copy.\n",
      "A typical example is when you are setting values in a column of a DataFrame, like:\n",
      "\n",
      "df[\"col\"][row_indexer] = value\n",
      "\n",
      "Use `df.loc[row_indexer, \"col\"] = values` instead, to perform the assignment in a single step and ensure this keeps updating the original `df`.\n",
      "\n",
      "See the caveats in the documentation: https://pandas.pydata.org/pandas-docs/stable/user_guide/indexing.html#returning-a-view-versus-a-copy\n",
      "\n",
      "  df['row_estimate'].iloc[-1] = df['row_estimate'].iloc[:-1].mean()\n",
      "/var/folders/gt/sg3v8rd13l52jx91mfbgzbfc0000gn/T/ipykernel_37895/2349657401.py:1: SettingWithCopyWarning: \n",
      "A value is trying to be set on a copy of a slice from a DataFrame\n",
      "\n",
      "See the caveats in the documentation: https://pandas.pydata.org/pandas-docs/stable/user_guide/indexing.html#returning-a-view-versus-a-copy\n",
      "  df['row_estimate'].iloc[-1] = df['row_estimate'].iloc[:-1].mean()\n"
     ]
    }
   ],
   "source": [
    "df['row_estimate'].iloc[-1] = df['row_estimate'].iloc[:-1].mean()"
   ]
  },
  {
   "cell_type": "code",
   "execution_count": 8,
   "metadata": {},
   "outputs": [
    {
     "data": {
      "text/html": [
       "<div>\n",
       "<style scoped>\n",
       "    .dataframe tbody tr th:only-of-type {\n",
       "        vertical-align: middle;\n",
       "    }\n",
       "\n",
       "    .dataframe tbody tr th {\n",
       "        vertical-align: top;\n",
       "    }\n",
       "\n",
       "    .dataframe thead th {\n",
       "        text-align: right;\n",
       "    }\n",
       "</style>\n",
       "<table border=\"1\" class=\"dataframe\">\n",
       "  <thead>\n",
       "    <tr style=\"text-align: right;\">\n",
       "      <th></th>\n",
       "      <th>circom_time</th>\n",
       "      <th>circom_mem</th>\n",
       "      <th>ezkl_time</th>\n",
       "      <th>ezkl_mem</th>\n",
       "      <th>model_params</th>\n",
       "      <th>circom_constrs</th>\n",
       "      <th>ezkl_rows</th>\n",
       "      <th>opml_time</th>\n",
       "      <th>circom_op_time</th>\n",
       "      <th>ezkl_op_time</th>\n",
       "    </tr>\n",
       "  </thead>\n",
       "  <tbody>\n",
       "    <tr>\n",
       "      <th>1</th>\n",
       "      <td>0 days 00:04:38.800000</td>\n",
       "      <td>85446120</td>\n",
       "      <td>0 days 00:00:33.200000</td>\n",
       "      <td>2869864</td>\n",
       "      <td>320</td>\n",
       "      <td>11378432</td>\n",
       "      <td>184408</td>\n",
       "      <td>0 days 00:00:00.040334380</td>\n",
       "      <td>0 days 00:04:38.840334380</td>\n",
       "      <td>0 days 00:00:33.240334380</td>\n",
       "    </tr>\n",
       "    <tr>\n",
       "      <th>2</th>\n",
       "      <td>0 days 00:08:44.180000</td>\n",
       "      <td>129358852</td>\n",
       "      <td>0 days 00:00:36.450000</td>\n",
       "      <td>2857136</td>\n",
       "      <td>320</td>\n",
       "      <td>16867552</td>\n",
       "      <td>224968</td>\n",
       "      <td>0 days 00:00:00.039514066</td>\n",
       "      <td>0 days 00:08:44.219514066</td>\n",
       "      <td>0 days 00:00:36.489514066</td>\n",
       "    </tr>\n",
       "    <tr>\n",
       "      <th>3</th>\n",
       "      <td>0 days 00:10:16.600000</td>\n",
       "      <td>136911572</td>\n",
       "      <td>0 days 00:03:08.110000</td>\n",
       "      <td>22516096</td>\n",
       "      <td>18816</td>\n",
       "      <td>23101472</td>\n",
       "      <td>1373720</td>\n",
       "      <td>0 days 00:00:00.039434895</td>\n",
       "      <td>0 days 00:10:16.639434895</td>\n",
       "      <td>0 days 00:03:08.149434895</td>\n",
       "    </tr>\n",
       "    <tr>\n",
       "      <th>4</th>\n",
       "      <td>0 days 00:10:50.140000</td>\n",
       "      <td>138164812</td>\n",
       "      <td>0 days 00:03:08.130000</td>\n",
       "      <td>22510672</td>\n",
       "      <td>18816</td>\n",
       "      <td>24725472</td>\n",
       "      <td>1385048</td>\n",
       "      <td>0 days 00:00:00.039542312</td>\n",
       "      <td>0 days 00:10:50.179542312</td>\n",
       "      <td>0 days 00:03:08.169542312</td>\n",
       "    </tr>\n",
       "    <tr>\n",
       "      <th>7</th>\n",
       "      <td>0 days 00:11:04.880000</td>\n",
       "      <td>137595576</td>\n",
       "      <td>0 days 00:03:11.770000</td>\n",
       "      <td>22512552</td>\n",
       "      <td>34826</td>\n",
       "      <td>24741472</td>\n",
       "      <td>1392273</td>\n",
       "      <td>0 days 00:00:00</td>\n",
       "      <td>0 days 00:11:04.880000</td>\n",
       "      <td>0 days 00:03:11.770000</td>\n",
       "    </tr>\n",
       "  </tbody>\n",
       "</table>\n",
       "</div>"
      ],
      "text/plain": [
       "              circom_time  circom_mem               ezkl_time  ezkl_mem  \\\n",
       "1  0 days 00:04:38.800000    85446120  0 days 00:00:33.200000   2869864   \n",
       "2  0 days 00:08:44.180000   129358852  0 days 00:00:36.450000   2857136   \n",
       "3  0 days 00:10:16.600000   136911572  0 days 00:03:08.110000  22516096   \n",
       "4  0 days 00:10:50.140000   138164812  0 days 00:03:08.130000  22510672   \n",
       "7  0 days 00:11:04.880000   137595576  0 days 00:03:11.770000  22512552   \n",
       "\n",
       "   model_params  circom_constrs  ezkl_rows                  opml_time  \\\n",
       "1           320        11378432     184408  0 days 00:00:00.040334380   \n",
       "2           320        16867552     224968  0 days 00:00:00.039514066   \n",
       "3         18816        23101472    1373720  0 days 00:00:00.039434895   \n",
       "4         18816        24725472    1385048  0 days 00:00:00.039542312   \n",
       "7         34826        24741472    1392273            0 days 00:00:00   \n",
       "\n",
       "              circom_op_time               ezkl_op_time  \n",
       "1  0 days 00:04:38.840334380  0 days 00:00:33.240334380  \n",
       "2  0 days 00:08:44.219514066  0 days 00:00:36.489514066  \n",
       "3  0 days 00:10:16.639434895  0 days 00:03:08.149434895  \n",
       "4  0 days 00:10:50.179542312  0 days 00:03:08.169542312  \n",
       "7     0 days 00:11:04.880000     0 days 00:03:11.770000  "
      ]
     },
     "execution_count": 8,
     "metadata": {},
     "output_type": "execute_result"
    }
   ],
   "source": [
    "bench = pd.read_csv(\"../mnist/bench/bench.csv\", index_col=0)\n",
    "bench"
   ]
  },
  {
   "cell_type": "code",
   "execution_count": 9,
   "metadata": {},
   "outputs": [],
   "source": [
    "# use scipy linear regression on ezkl_time vs ezkl_rows and ezkl_mem vs ezkl_rows\n",
    "\n",
    "from scipy.stats import linregress\n",
    "\n",
    "time = linregress(bench['ezkl_rows'], bench['ezkl_time'] / pd.Timedelta('1h'))\n",
    "mem = linregress(bench['ezkl_rows'], bench['ezkl_mem'])\n"
   ]
  },
  {
   "cell_type": "code",
   "execution_count": 10,
   "metadata": {},
   "outputs": [
    {
     "name": "stderr",
     "output_type": "stream",
     "text": [
      "/var/folders/gt/sg3v8rd13l52jx91mfbgzbfc0000gn/T/ipykernel_37895/3059676659.py:7: FutureWarning: ChainedAssignmentError: behaviour will change in pandas 3.0!\n",
      "You are setting values through chained assignment. Currently this works in certain cases, but when using Copy-on-Write (which will become the default behaviour in pandas 3.0) this will never work to update the original DataFrame or Series, because the intermediate object on which we are setting values will behave as a copy.\n",
      "A typical example is when you are setting values in a column of a DataFrame, like:\n",
      "\n",
      "df[\"col\"][row_indexer] = value\n",
      "\n",
      "Use `df.loc[row_indexer, \"col\"] = values` instead, to perform the assignment in a single step and ensure this keeps updating the original `df`.\n",
      "\n",
      "See the caveats in the documentation: https://pandas.pydata.org/pandas-docs/stable/user_guide/indexing.html#returning-a-view-versus-a-copy\n",
      "\n",
      "  df['mem_estimate'].iloc[-1] = (mem.intercept + mem.slope * df['row_estimate'].iloc[-1]) / 1e9\n",
      "/var/folders/gt/sg3v8rd13l52jx91mfbgzbfc0000gn/T/ipykernel_37895/3059676659.py:7: SettingWithCopyWarning: \n",
      "A value is trying to be set on a copy of a slice from a DataFrame\n",
      "\n",
      "See the caveats in the documentation: https://pandas.pydata.org/pandas-docs/stable/user_guide/indexing.html#returning-a-view-versus-a-copy\n",
      "  df['mem_estimate'].iloc[-1] = (mem.intercept + mem.slope * df['row_estimate'].iloc[-1]) / 1e9\n",
      "/var/folders/gt/sg3v8rd13l52jx91mfbgzbfc0000gn/T/ipykernel_37895/3059676659.py:8: FutureWarning: ChainedAssignmentError: behaviour will change in pandas 3.0!\n",
      "You are setting values through chained assignment. Currently this works in certain cases, but when using Copy-on-Write (which will become the default behaviour in pandas 3.0) this will never work to update the original DataFrame or Series, because the intermediate object on which we are setting values will behave as a copy.\n",
      "A typical example is when you are setting values in a column of a DataFrame, like:\n",
      "\n",
      "df[\"col\"][row_indexer] = value\n",
      "\n",
      "Use `df.loc[row_indexer, \"col\"] = values` instead, to perform the assignment in a single step and ensure this keeps updating the original `df`.\n",
      "\n",
      "See the caveats in the documentation: https://pandas.pydata.org/pandas-docs/stable/user_guide/indexing.html#returning-a-view-versus-a-copy\n",
      "\n",
      "  df['time_estimate'].iloc[-1] = time.intercept + time.slope * df['row_estimate'].iloc[-1]\n",
      "/var/folders/gt/sg3v8rd13l52jx91mfbgzbfc0000gn/T/ipykernel_37895/3059676659.py:8: SettingWithCopyWarning: \n",
      "A value is trying to be set on a copy of a slice from a DataFrame\n",
      "\n",
      "See the caveats in the documentation: https://pandas.pydata.org/pandas-docs/stable/user_guide/indexing.html#returning-a-view-versus-a-copy\n",
      "  df['time_estimate'].iloc[-1] = time.intercept + time.slope * df['row_estimate'].iloc[-1]\n"
     ]
    },
    {
     "data": {
      "text/html": [
       "<div>\n",
       "<style scoped>\n",
       "    .dataframe tbody tr th:only-of-type {\n",
       "        vertical-align: middle;\n",
       "    }\n",
       "\n",
       "    .dataframe tbody tr th {\n",
       "        vertical-align: top;\n",
       "    }\n",
       "\n",
       "    .dataframe thead th {\n",
       "        text-align: right;\n",
       "    }\n",
       "</style>\n",
       "<table border=\"1\" class=\"dataframe\">\n",
       "  <thead>\n",
       "    <tr style=\"text-align: right;\">\n",
       "      <th></th>\n",
       "      <th>params</th>\n",
       "      <th>rows</th>\n",
       "      <th>params_pct</th>\n",
       "      <th>row_estimate</th>\n",
       "      <th>mem_estimate</th>\n",
       "      <th>time_estimate</th>\n",
       "    </tr>\n",
       "  </thead>\n",
       "  <tbody>\n",
       "    <tr>\n",
       "      <th>0</th>\n",
       "      <td>2546240</td>\n",
       "      <td>1.082124e+10</td>\n",
       "      <td>0.002962</td>\n",
       "      <td>3.652870e+12</td>\n",
       "      <td>180.241362</td>\n",
       "      <td>393.877512</td>\n",
       "    </tr>\n",
       "    <tr>\n",
       "      <th>1</th>\n",
       "      <td>9188480</td>\n",
       "      <td>5.107530e+09</td>\n",
       "      <td>0.010690</td>\n",
       "      <td>4.777753e+11</td>\n",
       "      <td>85.072026</td>\n",
       "      <td>185.907839</td>\n",
       "    </tr>\n",
       "    <tr>\n",
       "      <th>2</th>\n",
       "      <td>34760960</td>\n",
       "      <td>4.429483e+09</td>\n",
       "      <td>0.040442</td>\n",
       "      <td>1.095261e+11</td>\n",
       "      <td>73.778273</td>\n",
       "      <td>161.228059</td>\n",
       "    </tr>\n",
       "    <tr>\n",
       "      <th>3</th>\n",
       "      <td>34760960</td>\n",
       "      <td>1.147973e+09</td>\n",
       "      <td>0.040442</td>\n",
       "      <td>2.838550e+10</td>\n",
       "      <td>19.120456</td>\n",
       "      <td>41.786559</td>\n",
       "    </tr>\n",
       "    <tr>\n",
       "      <th>4</th>\n",
       "      <td>859520964</td>\n",
       "      <td>NaN</td>\n",
       "      <td>1.000000</td>\n",
       "      <td>1.067139e+12</td>\n",
       "      <td>17774.596266</td>\n",
       "      <td>38842.104835</td>\n",
       "    </tr>\n",
       "  </tbody>\n",
       "</table>\n",
       "</div>"
      ],
      "text/plain": [
       "      params          rows  params_pct  row_estimate  mem_estimate  \\\n",
       "0    2546240  1.082124e+10    0.002962  3.652870e+12    180.241362   \n",
       "1    9188480  5.107530e+09    0.010690  4.777753e+11     85.072026   \n",
       "2   34760960  4.429483e+09    0.040442  1.095261e+11     73.778273   \n",
       "3   34760960  1.147973e+09    0.040442  2.838550e+10     19.120456   \n",
       "4  859520964           NaN    1.000000  1.067139e+12  17774.596266   \n",
       "\n",
       "   time_estimate  \n",
       "0     393.877512  \n",
       "1     185.907839  \n",
       "2     161.228059  \n",
       "3      41.786559  \n",
       "4   38842.104835  "
      ]
     },
     "execution_count": 10,
     "metadata": {},
     "output_type": "execute_result"
    }
   ],
   "source": [
    "# apply the linear regression to the row estimate\n",
    "\n",
    "\n",
    "df['mem_estimate'] = (mem.intercept + mem.slope * df['rows']) / 1e9\n",
    "df['time_estimate'] = time.intercept + time.slope * df['rows']\n",
    "\n",
    "df['mem_estimate'].iloc[-1] = (mem.intercept + mem.slope * df['row_estimate'].iloc[-1]) / 1e9\n",
    "df['time_estimate'].iloc[-1] = time.intercept + time.slope * df['row_estimate'].iloc[-1] \n",
    "df"
   ]
  },
  {
   "cell_type": "code",
   "execution_count": null,
   "metadata": {},
   "outputs": [],
   "source": []
  }
 ],
 "metadata": {
  "kernelspec": {
   "display_name": "oppai",
   "language": "python",
   "name": "python3"
  },
  "language_info": {
   "codemirror_mode": {
    "name": "ipython",
    "version": 3
   },
   "file_extension": ".py",
   "mimetype": "text/x-python",
   "name": "python",
   "nbconvert_exporter": "python",
   "pygments_lexer": "ipython3",
   "version": "3.10.13"
  }
 },
 "nbformat": 4,
 "nbformat_minor": 2
}
