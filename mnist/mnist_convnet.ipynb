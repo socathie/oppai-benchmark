{
  "cells": [
    {
      "cell_type": "markdown",
      "metadata": {
        "id": "1ZVxPaSnqjnN"
      },
      "source": [
        "# Simple MNIST convnet\n",
        "\n",
        "**Author:** [fchollet](https://twitter.com/fchollet)<br>\n",
        "**Date created:** 2015/06/19<br>\n",
        "**Last modified:** 2020/04/21<br>\n",
        "**Description:** A simple convnet that achieves ~99% test accuracy on MNIST."
      ]
    },
    {
      "cell_type": "code",
      "execution_count": 1,
      "metadata": {},
      "outputs": [],
      "source": [
        "# Ref: https://tf.keras.io/examples/vision/mnist_convnet/"
      ]
    },
    {
      "cell_type": "markdown",
      "metadata": {
        "id": "tHW8Bz0vqjnP"
      },
      "source": [
        "## Setup"
      ]
    },
    {
      "cell_type": "code",
      "execution_count": 2,
      "metadata": {
        "id": "TXggE4ewqjnP"
      },
      "outputs": [],
      "source": [
        "import os\n",
        "os.environ['TF_CPP_MIN_LOG_LEVEL'] = '3'\n",
        "os.environ['CUDA_VISIBLE_DEVICES'] = ''\n",
        "\n",
        "import tensorflow as tf"
      ]
    },
    {
      "cell_type": "markdown",
      "metadata": {
        "id": "Z22CVGq8qjnQ"
      },
      "source": [
        "## Prepare the data"
      ]
    },
    {
      "cell_type": "code",
      "execution_count": 3,
      "metadata": {
        "id": "J7SqX1cjqjnQ"
      },
      "outputs": [],
      "source": [
        "# Model / data parameters\n",
        "num_classes = 10\n",
        "input_shape = (28, 28, 1)\n",
        "\n",
        "# # Load the data and split it between train and test sets\n",
        "# (x_train, y_train), (x_test, y_test) = tf.keras.datasets.mnist.load_data()\n",
        "\n",
        "# # Scale images to the [0, 1] range\n",
        "# x_train = x_train.astype(\"float32\") / 255\n",
        "# x_test = x_test.astype(\"float32\") / 255\n",
        "# # Make sure images have shape (28, 28, 1)\n",
        "# x_train = np.expand_dims(x_train, -1)\n",
        "# x_test = np.expand_dims(x_test, -1)\n",
        "# print(\"x_train shape:\", x_train.shape)\n",
        "# print(x_train.shape[0], \"train samples\")\n",
        "# print(x_test.shape[0], \"test samples\")\n",
        "\n",
        "\n",
        "# # convert class vectors to binary class matrices\n",
        "# y_train = tf.keras.utils.to_categorical(y_train, num_classes)\n",
        "# y_test = tf.keras.utils.to_categorical(y_test, num_classes)"
      ]
    },
    {
      "cell_type": "markdown",
      "metadata": {
        "id": "mG-JoBD8qjnQ"
      },
      "source": [
        "## Build the model"
      ]
    },
    {
      "cell_type": "code",
      "execution_count": 4,
      "metadata": {
        "id": "-VyJZcTOqjnR"
      },
      "outputs": [
        {
          "name": "stdout",
          "output_type": "stream",
          "text": [
            "Model: \"model\"\n",
            "_________________________________________________________________\n",
            " Layer (type)                Output Shape              Param #   \n",
            "=================================================================\n",
            " input_0 (InputLayer)        [(None, 28, 28, 1)]       0         \n",
            "                                                                 \n",
            " conv2d (Conv2D)             (None, 26, 26, 32)        320       \n",
            "                                                                 \n",
            " max_pooling2d (MaxPooling2  (None, 13, 13, 32)        0         \n",
            " D)                                                              \n",
            "                                                                 \n",
            " conv2d_1 (Conv2D)           (None, 11, 11, 64)        18496     \n",
            "                                                                 \n",
            "_________________________________________________________________\n",
            " Layer (type)                Output Shape              Param #   \n",
            "=================================================================\n",
            " input_0 (InputLayer)        [(None, 28, 28, 1)]       0         \n",
            "                                                                 \n",
            " conv2d (Conv2D)             (None, 26, 26, 32)        320       \n",
            "                                                                 \n",
            " max_pooling2d (MaxPooling2  (None, 13, 13, 32)        0         \n",
            " D)                                                              \n",
            "                                                                 \n",
            " conv2d_1 (Conv2D)           (None, 11, 11, 64)        18496     \n",
            "                                                                 \n",
            " max_pooling2d_1 (MaxPoolin  (None, 5, 5, 64)          0         \n",
            " g2D)                                                            \n",
            "                                                                 \n",
            " flatten (Flatten)           (None, 1600)              0         \n",
            "                                                                 \n",
            " dropout (Dropout)           (None, 1600)              0         \n",
            "                                                                 \n",
            " dense (Dense)               (None, 10)                16010     \n",
            "                                                                 \n",
            "=================================================================\n",
            "Total params: 34826 (136.04 KB)\n",
            "Trainable params: 34826 (136.04 KB)\n",
            "Non-trainable params: 0 (0.00 Byte)\n",
            "_________________________________________________________________\n"
          ]
        }
      ],
      "source": [
        "input = tf.keras.Input(shape=input_shape, name=\"input_0\")\n",
        "\n",
        "out = tf.keras.layers.Conv2D(32, kernel_size=(3, 3), activation=\"relu\")(input)\n",
        "out = tf.keras.layers.MaxPooling2D(pool_size=(2, 2))(out)\n",
        "out = tf.keras.layers.Conv2D(64, kernel_size=(3, 3), activation=\"relu\")(out)\n",
        "out = tf.keras.layers.MaxPooling2D(pool_size=(2, 2))(out)\n",
        "out = tf.keras.layers.Flatten()(out)\n",
        "out = tf.keras.layers.Dropout(0.5)(out)\n",
        "out = tf.keras.layers.Dense(num_classes, activation=\"softmax\")(out)\n",
        "\n",
        "model = tf.keras.Model(input, out)\n",
        "\n",
        "model.summary()"
      ]
    },
    {
      "cell_type": "code",
      "execution_count": 5,
      "metadata": {},
      "outputs": [
        {
          "data": {
            "image/png": "[encoded data removed]",
            "text/plain": [
              "<IPython.core.display.Image object>"
            ]
          },
          "execution_count": 5,
          "metadata": {},
          "output_type": "execute_result"
        }
      ],
      "source": [
        "from tensorflow.keras.utils import plot_model\n",
        "\n",
        "# plot model and display image\n",
        "plot_model(model, to_file='model.png')"
      ]
    },
    {
      "cell_type": "markdown",
      "metadata": {
        "id": "rl_N2ppqqjnR"
      },
      "source": [
        "## Train the model"
      ]
    },
    {
      "cell_type": "code",
      "execution_count": 6,
      "metadata": {
        "id": "2NegiVb2qjnR"
      },
      "outputs": [],
      "source": [
        "# batch_size = 128\n",
        "# epochs = 15\n",
        "\n",
        "# model.compile(loss=\"categorical_crossentropy\", optimizer=\"adam\", metrics=[\"accuracy\"])\n",
        "\n",
        "# model.fit(x_train, y_train, batch_size=batch_size, epochs=epochs, validation_split=0.1)"
      ]
    },
    {
      "cell_type": "markdown",
      "metadata": {
        "id": "RjY_7fVzqjnR"
      },
      "source": [
        "## Evaluate the trained model"
      ]
    },
    {
      "cell_type": "code",
      "execution_count": 7,
      "metadata": {
        "id": "FQ5jm7v9qjnR"
      },
      "outputs": [],
      "source": [
        "# score = model.evaluate(x_test, y_test, verbose=0)\n",
        "# print(\"Test loss:\", score[0])\n",
        "# print(\"Test accuracy:\", score[1])"
      ]
    },
    {
      "cell_type": "code",
      "execution_count": 8,
      "metadata": {},
      "outputs": [
        {
          "name": "stdout",
          "output_type": "stream",
          "text": [
            "WARNING:tensorflow:Compiled the loaded model, but the compiled metrics have yet to be built. `model.compile_metrics` will be empty until you train or evaluate the model.\n",
            "WARNING:tensorflow:Compiled the loaded model, but the compiled metrics have yet to be built. `model.compile_metrics` will be empty until you train or evaluate the model.\n",
            "WARNING:tensorflow:Compiled the loaded model, but the compiled metrics have yet to be built. `model.compile_metrics` will be empty until you train or evaluate the model.\n",
            "WARNING:tensorflow:Compiled the loaded model, but the compiled metrics have yet to be built. `model.compile_metrics` will be empty until you train or evaluate the model.\n",
            "WARNING:tensorflow:Compiled the loaded model, but the compiled metrics have yet to be built. `model.compile_metrics` will be empty until you train or evaluate the model.\n",
            "WARNING:tensorflow:Compiled the loaded model, but the compiled metrics have yet to be built. `model.compile_metrics` will be empty until you train or evaluate the model.\n",
            "WARNING:tensorflow:Compiled the loaded model, but the compiled metrics have yet to be built. `model.compile_metrics` will be empty until you train or evaluate the model.\n"
          ]
        },
        {
          "name": "stderr",
          "output_type": "stream",
          "text": [
            "/root/oppai-models/oppai/lib/python3.10/site-packages/keras/src/engine/training.py:3103: UserWarning: You are saving your model as an HDF5 file via `model.save()`. This file format is considered legacy. We recommend using instead the native Keras format, e.g. `model.save('my_model.keras')`.\n",
            "  saving_api.save_model(\n"
          ]
        }
      ],
      "source": [
        "# iterate over the layers and export models from first to current layer to h5 files\n",
        "for i in range(1, len(model.layers)):\n",
        "    model_i = tf.keras.Model(inputs=model.inputs, outputs=model.layers[i].output, name=f\"model_{i}\")\n",
        "    model_i.save(f\"model_{i}/model.h5\")\n",
        "    # print(model_i.summary())"
      ]
    },
    {
      "cell_type": "code",
      "execution_count": 9,
      "metadata": {},
      "outputs": [
        {
          "name": "stdout",
          "output_type": "stream",
          "text": [
            "WARNING:tensorflow:No training configuration found in the save file, so the model was *not* compiled. Compile it manually.\n",
            "WARNING:tensorflow:No training configuration found in the save file, so the model was *not* compiled. Compile it manually.\n",
            "WARNING:tensorflow:No training configuration found in the save file, so the model was *not* compiled. Compile it manually.\n",
            "WARNING:tensorflow:No training configuration found in the save file, so the model was *not* compiled. Compile it manually.\n",
            "WARNING:tensorflow:No training configuration found in the save file, so the model was *not* compiled. Compile it manually.\n",
            "WARNING:tensorflow:No training configuration found in the save file, so the model was *not* compiled. Compile it manually.\n",
            "WARNING:tensorflow:No training configuration found in the save file, so the model was *not* compiled. Compile it manually.\n"
          ]
        }
      ],
      "source": [
        "import tf2onnx\n",
        "\n",
        "spec = tf.TensorSpec([1, 28, 28, 1], tf.float32, name=\"input_0\")\n",
        "\n",
        "for i in range(1, len(model.layers)):\n",
        "    model_i = tf.keras.models.load_model(f'model_{i}/model.h5')\n",
        "    tf2onnx.convert.from_keras(\n",
        "        model_i,\n",
        "        input_signature=[spec],\n",
        "        inputs_as_nchw=['input_0'],\n",
        "        opset=18,\n",
        "        output_path=f'model_{i}/model.onnx'\n",
        "    )"
      ]
    },
    {
      "cell_type": "code",
      "execution_count": 10,
      "metadata": {},
      "outputs": [
        {
          "name": "stdout",
          "output_type": "stream",
          "text": [
            "Model 1 num_rows: 184656\n",
            "Model 2 num_rows: 236032\n",
            "Model 3 num_rows: 1384794\n",
            "Model 4 num_rows: 1399322\n",
            "Model 5 num_rows: 1399322\n",
            "Model 6 num_rows: 1399323\n",
            "Model 7 num_rows: 1406581\n"
          ]
        }
      ],
      "source": [
        "# Ref: https://github.com/zkonduit/ezkl/blob/bceac2fab530fd01701aec3d8018ce318f6c42e1/examples/notebooks/mnist_vae.ipynb\n",
        "!RUST_LOG=trace\n",
        "\n",
        "# import os\n",
        "import ezkl\n",
        "import json\n",
        "\n",
        "\n",
        "for i in range(1, len(model.layers)):\n",
        "    model_path = os.path.join(f'model_{i}/model.onnx')\n",
        "    settings_path = os.path.join(f'model_{i}/settings.json')\n",
        "\n",
        "    res = ezkl.gen_settings(model_path, settings_path)\n",
        "    assert res == True\n",
        "\n",
        "    # read the settings from json\n",
        "    with open(settings_path, 'r') as f:\n",
        "        settings = json.load(f)\n",
        "    \n",
        "    # print the \"num_rows\" from the settings\n",
        "    print(f\"Model {i} num_rows: {settings['num_rows']}\")\n"
      ]
    },
    {
      "cell_type": "code",
      "execution_count": 11,
      "metadata": {},
      "outputs": [],
      "source": [
        "import sys\n",
        "sys.path.append('..')\n",
        "from keras2circom.keras2circom import circom, transpiler\n",
        "circom.dir_parse('../keras2circom/node_modules/circomlib-ml/circuits/', skips=['util.circom', 'circomlib-matrix', 'circomlib', 'crypto'])"
      ]
    },
    {
      "cell_type": "code",
      "execution_count": 12,
      "metadata": {},
      "outputs": [
        {
          "name": "stdout",
          "output_type": "stream",
          "text": [
            "WARNING:tensorflow:No training configuration found in the save file, so the model was *not* compiled. Compile it manually.\n",
            "WARNING:tensorflow:No training configuration found in the save file, so the model was *not* compiled. Compile it manually.\n",
            "WARNING:tensorflow:No training configuration found in the save file, so the model was *not* compiled. Compile it manually.\n",
            "WARNING:tensorflow:No training configuration found in the save file, so the model was *not* compiled. Compile it manually.\n",
            "WARNING:tensorflow:No training configuration found in the save file, so the model was *not* compiled. Compile it manually.\n",
            "WARNING:tensorflow:No training configuration found in the save file, so the model was *not* compiled. Compile it manually.\n",
            "WARNING:tensorflow:No training configuration found in the save file, so the model was *not* compiled. Compile it manually.\n"
          ]
        }
      ],
      "source": [
        "for i in range(1, len(model.layers)):\n",
        "    args = {\n",
        "        '<model.h5>': f'model_{i}/model.h5',\n",
        "        '--output': f'model_{i}',\n",
        "        '--raw': False,\n",
        "        '--decimals': \"18\"\n",
        "    }\n",
        "    transpiler.transpile(args['<model.h5>'], args['--output'], args['--raw'], args['--decimals'])"
      ]
    },
    {
      "cell_type": "code",
      "execution_count": 13,
      "metadata": {},
      "outputs": [
        {
          "name": "stdout",
          "output_type": "stream",
          "text": [
            "\u001b[32mtemplate instances\u001b[0m: 11\n",
            "non-linear constraints: 11378432\n",
            "linear constraints: 12179920\n",
            "public inputs: 0\n",
            "private inputs: 66000\n",
            "public outputs: 21632\n",
            "wires: 23537825\n",
            "labels: 23537825\n",
            "\u001b[32mWritten successfully:\u001b[0m model_1/circuit.r1cs\n",
            "\u001b[32mEverything went okay\u001b[0m\n",
            "\u001b[32mtemplate instances\u001b[0m: 17\n",
            "non-linear constraints: 16872960\n",
            "linear constraints: 12531440\n",
            "public inputs: 0\n",
            "private inputs: 71408\n",
            "public outputs: 5408\n",
            "wires: 29362241\n",
            "labels: 29362241\n",
            "\u001b[32mWritten successfully:\u001b[0m model_2/circuit.r1cs\n",
            "\u001b[32mEverything went okay\u001b[0m\n",
            "\u001b[32mtemplate instances\u001b[0m: 19\n",
            "non-linear constraints: 23106880\n",
            "linear constraints: 26272304\n",
            "public inputs: 0\n",
            "private inputs: 113136\n",
            "public outputs: 7744\n",
            "wires: 49347777\n",
            "labels: 49347777\n",
            "\u001b[32mWritten successfully:\u001b[0m model_3/circuit.r1cs\n",
            "\u001b[32mEverything went okay\u001b[0m\n",
            "\u001b[32mtemplate instances\u001b[0m: 20\n",
            "non-linear constraints: 24732480\n",
            "linear constraints: 26376304\n",
            "public inputs: 0\n",
            "private inputs: 114736\n",
            "public outputs: 1600\n",
            "wires: 51070977\n",
            "labels: 51070977\n",
            "\u001b[32mWritten successfully:\u001b[0m model_4/circuit.r1cs\n",
            "\u001b[32mEverything went okay\u001b[0m\n",
            "\u001b[32mtemplate instances\u001b[0m: 21\n",
            "non-linear constraints: 24732480\n",
            "linear constraints: 26381104\n",
            "public inputs: 0\n",
            "private inputs: 116336\n",
            "public outputs: 1600\n",
            "wires: 51075777\n",
            "labels: 51075777\n",
            "\u001b[32mWritten successfully:\u001b[0m model_5/circuit.r1cs\n",
            "\u001b[32mEverything went okay\u001b[0m\n",
            "\u001b[32mtemplate instances\u001b[0m: 21\n",
            "non-linear constraints: 24732480\n",
            "linear constraints: 26381104\n",
            "public inputs: 0\n",
            "private inputs: 116336\n",
            "public outputs: 1600\n",
            "wires: 51075777\n",
            "labels: 51075777\n",
            "\u001b[32mWritten successfully:\u001b[0m model_6/circuit.r1cs\n",
            "\u001b[32mEverything went okay\u001b[0m\n",
            "\u001b[32mtemplate instances\u001b[0m: 26\n",
            "non-linear constraints: 24751030\n",
            "linear constraints: 26493379\n",
            "public inputs: 0\n",
            "private inputs: 132367\n",
            "public outputs: 1\n",
            "wires: 51222612\n",
            "labels: 51222612\n",
            "\u001b[32mWritten successfully:\u001b[0m model_7/circuit.r1cs\n",
            "\u001b[32mEverything went okay\u001b[0m\n"
          ]
        }
      ],
      "source": [
        "import subprocess\n",
        "\n",
        "commands = []\n",
        "\n",
        "for i in range(1, len(model.layers)):\n",
        "    commands.append(['circom', f'model_{i}/circuit.circom', '--O0', '--r1cs', '-o', f'model_{i}'])\n",
        "\n",
        "# Run each command sequentially and print their output\n",
        "for cmd in commands:\n",
        "    subprocess.call(cmd)"
      ]
    },
    {
      "cell_type": "code",
      "execution_count": null,
      "metadata": {},
      "outputs": [],
      "source": []
    }
  ],
  "metadata": {
    "accelerator": "GPU",
    "colab": {
      "name": "mnist_convnet",
      "provenance": [],
      "toc_visible": true
    },
    "kernelspec": {
      "display_name": "Python 3",
      "language": "python",
      "name": "python3"
    },
    "language_info": {
      "codemirror_mode": {
        "name": "ipython",
        "version": 3
      },
      "file_extension": ".py",
      "mimetype": "text/x-python",
      "name": "python",
      "nbconvert_exporter": "python",
      "pygments_lexer": "ipython3",
      "version": "3.10.12"
    }
  },
  "nbformat": 4,
  "nbformat_minor": 0
}
