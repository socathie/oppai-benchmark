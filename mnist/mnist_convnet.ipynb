{
  "cells": [
    {
      "cell_type": "markdown",
      "metadata": {
        "id": "1ZVxPaSnqjnN"
      },
      "source": [
        "# Simple MNIST convnet\n",
        "\n",
        "**Author:** [fchollet](https://twitter.com/fchollet)<br>\n",
        "**Date created:** 2015/06/19<br>\n",
        "**Last modified:** 2020/04/21<br>\n",
        "**Description:** A simple convnet that achieves ~99% test accuracy on MNIST."
      ]
    },
    {
      "cell_type": "markdown",
      "metadata": {
        "id": "tHW8Bz0vqjnP"
      },
      "source": [
        "## Setup"
      ]
    },
    {
      "cell_type": "code",
      "execution_count": 16,
      "metadata": {
        "id": "TXggE4ewqjnP"
      },
      "outputs": [],
      "source": [
        "import numpy as np\n",
        "import tensorflow as tf\n",
        "from tensorflow import keras\n",
        "from keras import layers"
      ]
    },
    {
      "cell_type": "markdown",
      "metadata": {
        "id": "Z22CVGq8qjnQ"
      },
      "source": [
        "## Prepare the data"
      ]
    },
    {
      "cell_type": "code",
      "execution_count": 2,
      "metadata": {
        "id": "J7SqX1cjqjnQ"
      },
      "outputs": [
        {
          "name": "stdout",
          "output_type": "stream",
          "text": [
            "x_train shape: (60000, 28, 28, 1)\n",
            "60000 train samples\n",
            "10000 test samples\n"
          ]
        }
      ],
      "source": [
        "# Model / data parameters\n",
        "num_classes = 10\n",
        "input_shape = (28, 28, 1)\n",
        "\n",
        "# Load the data and split it between train and test sets\n",
        "(x_train, y_train), (x_test, y_test) = keras.datasets.mnist.load_data()\n",
        "\n",
        "# Scale images to the [0, 1] range\n",
        "x_train = x_train.astype(\"float32\") / 255\n",
        "x_test = x_test.astype(\"float32\") / 255\n",
        "# Make sure images have shape (28, 28, 1)\n",
        "x_train = np.expand_dims(x_train, -1)\n",
        "x_test = np.expand_dims(x_test, -1)\n",
        "print(\"x_train shape:\", x_train.shape)\n",
        "print(x_train.shape[0], \"train samples\")\n",
        "print(x_test.shape[0], \"test samples\")\n",
        "\n",
        "\n",
        "# convert class vectors to binary class matrices\n",
        "y_train = keras.utils.to_categorical(y_train, num_classes)\n",
        "y_test = keras.utils.to_categorical(y_test, num_classes)"
      ]
    },
    {
      "cell_type": "markdown",
      "metadata": {
        "id": "mG-JoBD8qjnQ"
      },
      "source": [
        "## Build the model"
      ]
    },
    {
      "cell_type": "code",
      "execution_count": 3,
      "metadata": {
        "id": "-VyJZcTOqjnR"
      },
      "outputs": [
        {
          "name": "stdout",
          "output_type": "stream",
          "text": [
            "Model: \"sequential\"\n",
            "_________________________________________________________________\n",
            " Layer (type)                Output Shape              Param #   \n",
            "=================================================================\n",
            " conv2d (Conv2D)             (None, 26, 26, 32)        320       \n",
            "                                                                 \n",
            " max_pooling2d (MaxPooling2D  (None, 13, 13, 32)       0         \n",
            " )                                                               \n",
            "                                                                 \n",
            " conv2d_1 (Conv2D)           (None, 11, 11, 64)        18496     \n",
            "                                                                 \n",
            " max_pooling2d_1 (MaxPooling  (None, 5, 5, 64)         0         \n",
            " 2D)                                                             \n",
            "                                                                 \n",
            " flatten (Flatten)           (None, 1600)              0         \n",
            "                                                                 \n",
            " dropout (Dropout)           (None, 1600)              0         \n",
            "                                                                 \n",
            " dense (Dense)               (None, 10)                16010     \n",
            "                                                                 \n",
            "=================================================================\n",
            "Total params: 34,826\n",
            "Trainable params: 34,826\n",
            "Non-trainable params: 0\n",
            "_________________________________________________________________\n"
          ]
        },
        {
          "name": "stderr",
          "output_type": "stream",
          "text": [
            "2024-02-02 21:23:56.878156: I tensorflow/stream_executor/cuda/cuda_gpu_executor.cc:980] successful NUMA node read from SysFS had negative value (-1), but there must be at least one NUMA node, so returning NUMA node zero\n",
            "2024-02-02 21:23:57.049956: W tensorflow/stream_executor/platform/default/dso_loader.cc:64] Could not load dynamic library 'libcudnn.so.8'; dlerror: libcudnn.so.8: cannot open shared object file: No such file or directory; LD_LIBRARY_PATH: /usr/local/cuda-12.3/lib64\n",
            "2024-02-02 21:23:57.049979: W tensorflow/core/common_runtime/gpu/gpu_device.cc:1934] Cannot dlopen some GPU libraries. Please make sure the missing libraries mentioned above are installed properly if you would like to use GPU. Follow the guide at https://www.tensorflow.org/install/gpu for how to download and setup the required libraries for your platform.\n",
            "Skipping registering GPU devices...\n",
            "2024-02-02 21:23:57.050884: I tensorflow/core/platform/cpu_feature_guard.cc:193] This TensorFlow binary is optimized with oneAPI Deep Neural Network Library (oneDNN) to use the following CPU instructions in performance-critical operations:  AVX2 FMA\n",
            "To enable them in other operations, rebuild TensorFlow with the appropriate compiler flags.\n"
          ]
        }
      ],
      "source": [
        "model = keras.Sequential(\n",
        "    [\n",
        "        keras.Input(shape=input_shape, name=\"input\"),\n",
        "        layers.Conv2D(32, kernel_size=(3, 3), activation=\"relu\"),\n",
        "        layers.MaxPooling2D(pool_size=(2, 2)),\n",
        "        layers.Conv2D(64, kernel_size=(3, 3), activation=\"relu\"),\n",
        "        layers.MaxPooling2D(pool_size=(2, 2)),\n",
        "        layers.Flatten(),\n",
        "        layers.Dropout(0.5),\n",
        "        layers.Dense(num_classes, activation=\"softmax\"),\n",
        "    ]\n",
        ")\n",
        "\n",
        "model.summary()"
      ]
    },
    {
      "cell_type": "markdown",
      "metadata": {
        "id": "rl_N2ppqqjnR"
      },
      "source": [
        "## Train the model"
      ]
    },
    {
      "cell_type": "code",
      "execution_count": 4,
      "metadata": {
        "id": "2NegiVb2qjnR"
      },
      "outputs": [
        {
          "name": "stdout",
          "output_type": "stream",
          "text": [
            "Epoch 1/15\n",
            "422/422 [==============================] - 6s 13ms/step - loss: 0.3700 - accuracy: 0.8896 - val_loss: 0.0796 - val_accuracy: 0.9790\n",
            "Epoch 2/15\n",
            "422/422 [==============================] - 5s 12ms/step - loss: 0.1071 - accuracy: 0.9681 - val_loss: 0.0577 - val_accuracy: 0.9845\n",
            "Epoch 3/15\n",
            "422/422 [==============================] - 5s 12ms/step - loss: 0.0795 - accuracy: 0.9759 - val_loss: 0.0457 - val_accuracy: 0.9877\n",
            "Epoch 4/15\n",
            "422/422 [==============================] - 5s 12ms/step - loss: 0.0683 - accuracy: 0.9788 - val_loss: 0.0412 - val_accuracy: 0.9898\n",
            "Epoch 5/15\n",
            "422/422 [==============================] - 5s 12ms/step - loss: 0.0609 - accuracy: 0.9812 - val_loss: 0.0368 - val_accuracy: 0.9898\n",
            "Epoch 6/15\n",
            "422/422 [==============================] - 5s 12ms/step - loss: 0.0531 - accuracy: 0.9834 - val_loss: 0.0354 - val_accuracy: 0.9903\n",
            "Epoch 7/15\n",
            "422/422 [==============================] - 5s 12ms/step - loss: 0.0493 - accuracy: 0.9845 - val_loss: 0.0327 - val_accuracy: 0.9915\n",
            "Epoch 8/15\n",
            "422/422 [==============================] - 5s 12ms/step - loss: 0.0457 - accuracy: 0.9854 - val_loss: 0.0323 - val_accuracy: 0.9915\n",
            "Epoch 9/15\n",
            "422/422 [==============================] - 5s 12ms/step - loss: 0.0424 - accuracy: 0.9868 - val_loss: 0.0318 - val_accuracy: 0.9917\n",
            "Epoch 10/15\n",
            "422/422 [==============================] - 5s 12ms/step - loss: 0.0399 - accuracy: 0.9875 - val_loss: 0.0306 - val_accuracy: 0.9913\n",
            "Epoch 11/15\n",
            "422/422 [==============================] - 5s 12ms/step - loss: 0.0378 - accuracy: 0.9882 - val_loss: 0.0301 - val_accuracy: 0.9917\n",
            "Epoch 12/15\n",
            "422/422 [==============================] - 5s 12ms/step - loss: 0.0384 - accuracy: 0.9878 - val_loss: 0.0302 - val_accuracy: 0.9920\n",
            "Epoch 13/15\n",
            "422/422 [==============================] - 5s 12ms/step - loss: 0.0354 - accuracy: 0.9887 - val_loss: 0.0280 - val_accuracy: 0.9923\n",
            "Epoch 14/15\n",
            "422/422 [==============================] - 5s 12ms/step - loss: 0.0342 - accuracy: 0.9894 - val_loss: 0.0286 - val_accuracy: 0.9925\n",
            "Epoch 15/15\n",
            "422/422 [==============================] - 5s 12ms/step - loss: 0.0313 - accuracy: 0.9900 - val_loss: 0.0285 - val_accuracy: 0.9923\n"
          ]
        },
        {
          "data": {
            "text/plain": [
              "<keras.callbacks.History at 0x7fac7e74cd30>"
            ]
          },
          "execution_count": 4,
          "metadata": {},
          "output_type": "execute_result"
        }
      ],
      "source": [
        "batch_size = 128\n",
        "epochs = 15\n",
        "\n",
        "model.compile(loss=\"categorical_crossentropy\", optimizer=\"adam\", metrics=[\"accuracy\"])\n",
        "\n",
        "model.fit(x_train, y_train, batch_size=batch_size, epochs=epochs, validation_split=0.1)"
      ]
    },
    {
      "cell_type": "markdown",
      "metadata": {
        "id": "RjY_7fVzqjnR"
      },
      "source": [
        "## Evaluate the trained model"
      ]
    },
    {
      "cell_type": "code",
      "execution_count": 5,
      "metadata": {
        "id": "FQ5jm7v9qjnR"
      },
      "outputs": [
        {
          "name": "stdout",
          "output_type": "stream",
          "text": [
            "Test loss: 0.024829721078276634\n",
            "Test accuracy: 0.991599977016449\n"
          ]
        }
      ],
      "source": [
        "score = model.evaluate(x_test, y_test, verbose=0)\n",
        "print(\"Test loss:\", score[0])\n",
        "print(\"Test accuracy:\", score[1])"
      ]
    },
    {
      "cell_type": "code",
      "execution_count": 22,
      "metadata": {},
      "outputs": [
        {
          "name": "stdout",
          "output_type": "stream",
          "text": [
            "WARNING:tensorflow:Compiled the loaded model, but the compiled metrics have yet to be built. `model.compile_metrics` will be empty until you train or evaluate the model.\n",
            "WARNING:tensorflow:Compiled the loaded model, but the compiled metrics have yet to be built. `model.compile_metrics` will be empty until you train or evaluate the model.\n",
            "WARNING:tensorflow:Compiled the loaded model, but the compiled metrics have yet to be built. `model.compile_metrics` will be empty until you train or evaluate the model.\n",
            "WARNING:tensorflow:Compiled the loaded model, but the compiled metrics have yet to be built. `model.compile_metrics` will be empty until you train or evaluate the model.\n",
            "WARNING:tensorflow:Compiled the loaded model, but the compiled metrics have yet to be built. `model.compile_metrics` will be empty until you train or evaluate the model.\n",
            "WARNING:tensorflow:Compiled the loaded model, but the compiled metrics have yet to be built. `model.compile_metrics` will be empty until you train or evaluate the model.\n",
            "WARNING:tensorflow:Compiled the loaded model, but the compiled metrics have yet to be built. `model.compile_metrics` will be empty until you train or evaluate the model.\n"
          ]
        }
      ],
      "source": [
        "# iterate over the layers and export models from first to current layer to h5 files\n",
        "for i in range(0, len(model.layers)):\n",
        "    model_i = keras.Model(inputs=model.inputs, outputs=model.layers[i].output, name=f\"model_{i}\")\n",
        "    model_i.save(f\"model_{i}/model.h5\")\n",
        "    # print(model_i.summary())"
      ]
    },
    {
      "cell_type": "code",
      "execution_count": 7,
      "metadata": {},
      "outputs": [],
      "source": [
        "import sys\n",
        "sys.path.append('..')\n",
        "from keras2circom.keras2circom import circom, transpiler\n",
        "circom.dir_parse('../keras2circom/node_modules/circomlib-ml/circuits/', skips=['util.circom', 'circomlib-matrix', 'circomlib', 'crypto'])"
      ]
    },
    {
      "cell_type": "code",
      "execution_count": 8,
      "metadata": {},
      "outputs": [
        {
          "name": "stdout",
          "output_type": "stream",
          "text": [
            "WARNING:tensorflow:No training configuration found in the save file, so the model was *not* compiled. Compile it manually.\n",
            "WARNING:tensorflow:No training configuration found in the save file, so the model was *not* compiled. Compile it manually.\n",
            "WARNING:tensorflow:No training configuration found in the save file, so the model was *not* compiled. Compile it manually.\n",
            "WARNING:tensorflow:No training configuration found in the save file, so the model was *not* compiled. Compile it manually.\n",
            "WARNING:tensorflow:No training configuration found in the save file, so the model was *not* compiled. Compile it manually.\n",
            "WARNING:tensorflow:No training configuration found in the save file, so the model was *not* compiled. Compile it manually.\n",
            "WARNING:tensorflow:No training configuration found in the save file, so the model was *not* compiled. Compile it manually.\n"
          ]
        }
      ],
      "source": [
        "for i in range(0, len(model.layers)):\n",
        "    args = {\n",
        "        '<model.h5>': f'model_{i}/model.h5',\n",
        "        '--output': f'model_{i}',\n",
        "        '--raw': False,\n",
        "        '--decimals': \"18\"\n",
        "    }\n",
        "    transpiler.transpile(args['<model.h5>'], args['--output'], args['--raw'], args['--decimals'])"
      ]
    },
    {
      "cell_type": "code",
      "execution_count": 9,
      "metadata": {},
      "outputs": [
        {
          "name": "stdout",
          "output_type": "stream",
          "text": [
            "\u001b[32mtemplate instances\u001b[0m: 11\n"
          ]
        }
      ],
      "source": [
        "import subprocess\n",
        "\n",
        "commands = []\n",
        "\n",
        "for i in range(0, len(model.layers)):\n",
        "    commands.append(['circom', f'model_{i}/circuit.circom', '--r1cs'])\n",
        "\n",
        "# Run each command sequentially and print their output\n",
        "for cmd in commands:\n",
        "    subprocess.call(cmd)"
      ]
    },
    {
      "cell_type": "code",
      "execution_count": 27,
      "metadata": {},
      "outputs": [
        {
          "name": "stdout",
          "output_type": "stream",
          "text": [
            "WARNING:tensorflow:No training configuration found in the save file, so the model was *not* compiled. Compile it manually.\n"
          ]
        },
        {
          "name": "stdout",
          "output_type": "stream",
          "text": [
            "WARNING:tensorflow:No training configuration found in the save file, so the model was *not* compiled. Compile it manually.\n",
            "WARNING:tensorflow:No training configuration found in the save file, so the model was *not* compiled. Compile it manually.\n",
            "WARNING:tensorflow:No training configuration found in the save file, so the model was *not* compiled. Compile it manually.\n"
          ]
        },
        {
          "name": "stderr",
          "output_type": "stream",
          "text": [
            "2024-02-02 21:58:15.803473: I tensorflow/core/grappler/clusters/single_machine.cc:358] Starting new session\n",
            "2024-02-02 21:58:15.817877: I tensorflow/core/grappler/clusters/single_machine.cc:358] Starting new session\n",
            "2024-02-02 21:58:15.863944: I tensorflow/core/grappler/clusters/single_machine.cc:358] Starting new session\n",
            "2024-02-02 21:58:15.873370: I tensorflow/core/grappler/clusters/single_machine.cc:358] Starting new session\n",
            "2024-02-02 21:58:15.919617: I tensorflow/core/grappler/clusters/single_machine.cc:358] Starting new session\n",
            "2024-02-02 21:58:15.932169: I tensorflow/core/grappler/clusters/single_machine.cc:358] Starting new session\n",
            "2024-02-02 21:58:15.989546: I tensorflow/core/grappler/clusters/single_machine.cc:358] Starting new session\n"
          ]
        },
        {
          "name": "stdout",
          "output_type": "stream",
          "text": [
            "WARNING:tensorflow:No training configuration found in the save file, so the model was *not* compiled. Compile it manually.\n",
            "WARNING:tensorflow:No training configuration found in the save file, so the model was *not* compiled. Compile it manually.\n"
          ]
        },
        {
          "name": "stderr",
          "output_type": "stream",
          "text": [
            "2024-02-02 21:58:16.045035: I tensorflow/core/grappler/clusters/single_machine.cc:358] Starting new session\n",
            "2024-02-02 21:58:16.191309: I tensorflow/core/grappler/clusters/single_machine.cc:358] Starting new session\n",
            "2024-02-02 21:58:16.202005: I tensorflow/core/grappler/clusters/single_machine.cc:358] Starting new session\n"
          ]
        },
        {
          "name": "stdout",
          "output_type": "stream",
          "text": [
            "WARNING:tensorflow:No training configuration found in the save file, so the model was *not* compiled. Compile it manually.\n"
          ]
        },
        {
          "name": "stderr",
          "output_type": "stream",
          "text": [
            "2024-02-02 21:58:16.263329: I tensorflow/core/grappler/clusters/single_machine.cc:358] Starting new session\n",
            "2024-02-02 21:58:16.279377: I tensorflow/core/grappler/clusters/single_machine.cc:358] Starting new session\n",
            "2024-02-02 21:58:16.356855: I tensorflow/core/grappler/clusters/single_machine.cc:358] Starting new session\n",
            "2024-02-02 21:58:16.370525: I tensorflow/core/grappler/clusters/single_machine.cc:358] Starting new session\n"
          ]
        }
      ],
      "source": [
        "import tf2onnx\n",
        "\n",
        "spec = tf.TensorSpec([1, 28, 28, 1], tf.float32, name=\"input\")\n",
        "\n",
        "for i in range(0, len(model.layers)):\n",
        "    model_i = keras.models.load_model(f'model_{i}/model.h5')\n",
        "    tf2onnx.convert.from_keras(\n",
        "        model_i,\n",
        "        input_signature=[spec],\n",
        "        inputs_as_nchw=['input'],\n",
        "        opset=12,\n",
        "        output_path=f'model_{i}/model.onnx'\n",
        "    )"
      ]
    },
    {
      "cell_type": "code",
      "execution_count": 40,
      "metadata": {},
      "outputs": [
        {
          "name": "stdout",
          "output_type": "stream",
          "text": [
            "Model 0 num_rows: 184656\n",
            "Model 1 num_rows: 236032\n",
            "Model 2 num_rows: 1384794\n",
            "Model 3 num_rows: 1399322\n",
            "Model 4 num_rows: 1399322\n",
            "Model 5 num_rows: 1399322\n",
            "Model 6 num_rows: 1406585\n"
          ]
        }
      ],
      "source": [
        "# Ref: https://github.com/zkonduit/ezkl/blob/bceac2fab530fd01701aec3d8018ce318f6c42e1/examples/notebooks/mnist_vae.ipynb\n",
        "!RUST_LOG=trace\n",
        "\n",
        "import os\n",
        "import ezkl\n",
        "import json\n",
        "\n",
        "\n",
        "for i in range(0, len(model.layers)):\n",
        "    model_path = os.path.join(f'model_{i}/model.onnx')\n",
        "    settings_path = os.path.join(f'model_{i}/settings.json')\n",
        "\n",
        "    res = ezkl.gen_settings(model_path, settings_path)\n",
        "    assert res == True\n",
        "\n",
        "    # read the settings from json\n",
        "    with open(settings_path, 'r') as f:\n",
        "        settings = json.load(f)\n",
        "    \n",
        "    # print the \"num_rows\" from the settings\n",
        "    print(f\"Model {i} num_rows: {settings['num_rows']}\")\n"
      ]
    },
    {
      "cell_type": "code",
      "execution_count": null,
      "metadata": {},
      "outputs": [],
      "source": []
    }
  ],
  "metadata": {
    "accelerator": "GPU",
    "colab": {
      "name": "mnist_convnet",
      "provenance": [],
      "toc_visible": true
    },
    "kernelspec": {
      "display_name": "Python 3",
      "language": "python",
      "name": "python3"
    },
    "language_info": {
      "codemirror_mode": {
        "name": "ipython",
        "version": 3
      },
      "file_extension": ".py",
      "mimetype": "text/x-python",
      "name": "python",
      "nbconvert_exporter": "python",
      "pygments_lexer": "ipython3",
      "version": "3.9.13"
    }
  },
  "nbformat": 4,
  "nbformat_minor": 0
}
