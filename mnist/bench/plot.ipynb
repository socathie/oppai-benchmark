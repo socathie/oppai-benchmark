{
 "cells": [
  {
   "cell_type": "code",
   "execution_count": 1,
   "metadata": {},
   "outputs": [
    {
     "name": "stderr",
     "output_type": "stream",
     "text": [
      "/tmp/ipykernel_174491/1566173301.py:2: DeprecationWarning: \n",
      "Pyarrow will become a required dependency of pandas in the next major release of pandas (pandas 3.0),\n",
      "(to allow more performant data types, such as the Arrow string type, and better interoperability with other libraries)\n",
      "but was not found to be installed on your system.\n",
      "If this would cause problems for you,\n",
      "please provide us feedback at https://github.com/pandas-dev/pandas/issues/54466\n",
      "        \n",
      "  import pandas as pd\n"
     ]
    }
   ],
   "source": [
    "import re\n",
    "import pandas as pd"
   ]
  },
  {
   "cell_type": "code",
   "execution_count": 2,
   "metadata": {},
   "outputs": [],
   "source": [
    "# extract \"Elapsed (wall clock) time\" in mm:ss.xx format and \"Maximum resident set size (kbytes):\"\n",
    "\n",
    "def extract_time_and_mem(filename):\n",
    "    with open(filename, 'r') as f:\n",
    "        content = f.read()\n",
    "        time = re.search(r'Elapsed \\(wall clock\\) time \\(h:mm:ss or m:ss\\): (\\d+:\\d+\\.\\d+)', content).group(1)\n",
    "        mem = re.search(r'Maximum resident set size \\(kbytes\\): (\\d+)', content).group(1)\n",
    "        return time, mem"
   ]
  },
  {
   "cell_type": "code",
   "execution_count": 3,
   "metadata": {},
   "outputs": [],
   "source": [
    "with open(\"../circom_compile.out\", 'r') as f:\n",
    "    content = f.read()\n",
    "    constraints = re.findall(r'non-linear constraints: (\\d+)', content)\n"
   ]
  },
  {
   "cell_type": "code",
   "execution_count": 4,
   "metadata": {},
   "outputs": [],
   "source": [
    "with open(\"../ezkl_bench.out\", 'r') as f:\n",
    "    content = f.read()\n",
    "    rows = re.findall(r'model uses (\\d+) rows', content)\n",
    "\n",
    "with open(\"../op_bench.out\", 'r') as f:\n",
    "    content = f.read()\n",
    "    opml_time = re.findall(r'Time taken to run the op model \\d+: (\\d+.\\d+)', content)\n",
    "\n",
    "opml_time.append('0') # add a dummy value"
   ]
  },
  {
   "cell_type": "code",
   "execution_count": 5,
   "metadata": {},
   "outputs": [
    {
     "data": {
      "text/html": [
       "<div>\n",
       "<style scoped>\n",
       "    .dataframe tbody tr th:only-of-type {\n",
       "        vertical-align: middle;\n",
       "    }\n",
       "\n",
       "    .dataframe tbody tr th {\n",
       "        vertical-align: top;\n",
       "    }\n",
       "\n",
       "    .dataframe thead th {\n",
       "        text-align: right;\n",
       "    }\n",
       "</style>\n",
       "<table border=\"1\" class=\"dataframe\">\n",
       "  <thead>\n",
       "    <tr style=\"text-align: right;\">\n",
       "      <th></th>\n",
       "      <th>circom_time</th>\n",
       "      <th>circom_mem</th>\n",
       "      <th>ezkl_time</th>\n",
       "      <th>ezkl_mem</th>\n",
       "    </tr>\n",
       "  </thead>\n",
       "  <tbody>\n",
       "    <tr>\n",
       "      <th>1</th>\n",
       "      <td>4:38.80</td>\n",
       "      <td>85446120</td>\n",
       "      <td>0:33.20</td>\n",
       "      <td>2869864</td>\n",
       "    </tr>\n",
       "    <tr>\n",
       "      <th>2</th>\n",
       "      <td>8:44.18</td>\n",
       "      <td>129358852</td>\n",
       "      <td>0:36.45</td>\n",
       "      <td>2857136</td>\n",
       "    </tr>\n",
       "    <tr>\n",
       "      <th>3</th>\n",
       "      <td>10:16.60</td>\n",
       "      <td>136911572</td>\n",
       "      <td>3:08.11</td>\n",
       "      <td>22516096</td>\n",
       "    </tr>\n",
       "    <tr>\n",
       "      <th>4</th>\n",
       "      <td>10:50.14</td>\n",
       "      <td>138164812</td>\n",
       "      <td>3:08.13</td>\n",
       "      <td>22510672</td>\n",
       "    </tr>\n",
       "    <tr>\n",
       "      <th>5</th>\n",
       "      <td>10:43.00</td>\n",
       "      <td>137874072</td>\n",
       "      <td>3:06.55</td>\n",
       "      <td>22514768</td>\n",
       "    </tr>\n",
       "    <tr>\n",
       "      <th>6</th>\n",
       "      <td>10:44.07</td>\n",
       "      <td>137311736</td>\n",
       "      <td>3:06.98</td>\n",
       "      <td>22515256</td>\n",
       "    </tr>\n",
       "    <tr>\n",
       "      <th>7</th>\n",
       "      <td>11:04.88</td>\n",
       "      <td>137595576</td>\n",
       "      <td>3:11.77</td>\n",
       "      <td>22512552</td>\n",
       "    </tr>\n",
       "  </tbody>\n",
       "</table>\n",
       "</div>"
      ],
      "text/plain": [
       "  circom_time circom_mem ezkl_time  ezkl_mem\n",
       "1     4:38.80   85446120   0:33.20   2869864\n",
       "2     8:44.18  129358852   0:36.45   2857136\n",
       "3    10:16.60  136911572   3:08.11  22516096\n",
       "4    10:50.14  138164812   3:08.13  22510672\n",
       "5    10:43.00  137874072   3:06.55  22514768\n",
       "6    10:44.07  137311736   3:06.98  22515256\n",
       "7    11:04.88  137595576   3:11.77  22512552"
      ]
     },
     "execution_count": 5,
     "metadata": {},
     "output_type": "execute_result"
    }
   ],
   "source": [
    "# read from {circom,ezkl}_bench_{1..7}.out, extract time and memory, and store in a dataframe, split circom and ezkl into two columns, 1-7 into indices\n",
    "\n",
    "data = []\n",
    "for i in range(1, 8):\n",
    "    circom_time, circom_mem = extract_time_and_mem(f'circom_bench_{i}.out')\n",
    "    ezkl_time, ezkl_mem = extract_time_and_mem(f'ezkl_bench_{i}.out')\n",
    "    data.append([circom_time, circom_mem, ezkl_time, ezkl_mem])\n",
    "\n",
    "df = pd.DataFrame(data, columns=['circom_time', 'circom_mem', 'ezkl_time', 'ezkl_mem'])\n",
    "df.index = range(1, 8)\n",
    "\n",
    "df"
   ]
  },
  {
   "cell_type": "code",
   "execution_count": 6,
   "metadata": {},
   "outputs": [],
   "source": [
    "# Convert time columns to hh:mm:ss format\n",
    "df['circom_time'] = pd.to_datetime(df['circom_time'], format=\"%M:%S.%f\").dt.strftime(\"%H:%M:%S.%f\")\n",
    "df['ezkl_time'] = pd.to_datetime(df['ezkl_time'], format=\"%M:%S.%f\").dt.strftime(\"%H:%M:%S.%f\")\n",
    "\n",
    "# Convert time columns to timedelta\n",
    "df['circom_time'] = pd.to_timedelta(df['circom_time'])\n",
    "df['ezkl_time'] = pd.to_timedelta(df['ezkl_time'])\n",
    "\n",
    "# Convert memory columns to integer\n",
    "df['circom_mem'] = pd.to_numeric(df['circom_mem'])\n",
    "df['ezkl_mem'] = pd.to_numeric(df['ezkl_mem'])"
   ]
  },
  {
   "cell_type": "code",
   "execution_count": 7,
   "metadata": {},
   "outputs": [],
   "source": [
    "df['circom_constrs'] = pd.to_numeric(constraints)\n",
    "df['ezkl_rows'] = pd.to_numeric(rows)\n",
    "\n",
    "df['opml_time'] = pd.to_numeric(opml_time)\n",
    "df['opml_time'] = pd.to_timedelta(df['opml_time'] , unit='s')\n",
    "\n",
    "# remove index 5 and 6\n",
    "\n",
    "df = df.drop([5, 6])"
   ]
  },
  {
   "cell_type": "code",
   "execution_count": 8,
   "metadata": {},
   "outputs": [],
   "source": [
    "df['circom_op_time'] = df['circom_time'] + df['opml_time']\n",
    "df['ezkl_op_time'] = df['ezkl_time'] + df['opml_time']"
   ]
  },
  {
   "cell_type": "code",
   "execution_count": 9,
   "metadata": {},
   "outputs": [
    {
     "data": {
      "text/html": [
       "<div>\n",
       "<style scoped>\n",
       "    .dataframe tbody tr th:only-of-type {\n",
       "        vertical-align: middle;\n",
       "    }\n",
       "\n",
       "    .dataframe tbody tr th {\n",
       "        vertical-align: top;\n",
       "    }\n",
       "\n",
       "    .dataframe thead th {\n",
       "        text-align: right;\n",
       "    }\n",
       "</style>\n",
       "<table border=\"1\" class=\"dataframe\">\n",
       "  <thead>\n",
       "    <tr style=\"text-align: right;\">\n",
       "      <th></th>\n",
       "      <th>circom_time</th>\n",
       "      <th>circom_mem</th>\n",
       "      <th>ezkl_time</th>\n",
       "      <th>ezkl_mem</th>\n",
       "      <th>circom_constrs</th>\n",
       "      <th>ezkl_rows</th>\n",
       "      <th>opml_time</th>\n",
       "      <th>circom_op_time</th>\n",
       "      <th>ezkl_op_time</th>\n",
       "    </tr>\n",
       "  </thead>\n",
       "  <tbody>\n",
       "    <tr>\n",
       "      <th>1</th>\n",
       "      <td>0 days 00:04:38.800000</td>\n",
       "      <td>85446120</td>\n",
       "      <td>0 days 00:00:33.200000</td>\n",
       "      <td>2869864</td>\n",
       "      <td>11378432</td>\n",
       "      <td>184408</td>\n",
       "      <td>0 days 00:00:00.040334380</td>\n",
       "      <td>0 days 00:04:38.840334380</td>\n",
       "      <td>0 days 00:00:33.240334380</td>\n",
       "    </tr>\n",
       "    <tr>\n",
       "      <th>2</th>\n",
       "      <td>0 days 00:08:44.180000</td>\n",
       "      <td>129358852</td>\n",
       "      <td>0 days 00:00:36.450000</td>\n",
       "      <td>2857136</td>\n",
       "      <td>16867552</td>\n",
       "      <td>224968</td>\n",
       "      <td>0 days 00:00:00.039514066</td>\n",
       "      <td>0 days 00:08:44.219514066</td>\n",
       "      <td>0 days 00:00:36.489514066</td>\n",
       "    </tr>\n",
       "    <tr>\n",
       "      <th>3</th>\n",
       "      <td>0 days 00:10:16.600000</td>\n",
       "      <td>136911572</td>\n",
       "      <td>0 days 00:03:08.110000</td>\n",
       "      <td>22516096</td>\n",
       "      <td>23101472</td>\n",
       "      <td>1373720</td>\n",
       "      <td>0 days 00:00:00.039434895</td>\n",
       "      <td>0 days 00:10:16.639434895</td>\n",
       "      <td>0 days 00:03:08.149434895</td>\n",
       "    </tr>\n",
       "    <tr>\n",
       "      <th>4</th>\n",
       "      <td>0 days 00:10:50.140000</td>\n",
       "      <td>138164812</td>\n",
       "      <td>0 days 00:03:08.130000</td>\n",
       "      <td>22510672</td>\n",
       "      <td>24725472</td>\n",
       "      <td>1385048</td>\n",
       "      <td>0 days 00:00:00.039542312</td>\n",
       "      <td>0 days 00:10:50.179542312</td>\n",
       "      <td>0 days 00:03:08.169542312</td>\n",
       "    </tr>\n",
       "    <tr>\n",
       "      <th>7</th>\n",
       "      <td>0 days 00:11:04.880000</td>\n",
       "      <td>137595576</td>\n",
       "      <td>0 days 00:03:11.770000</td>\n",
       "      <td>22512552</td>\n",
       "      <td>24741472</td>\n",
       "      <td>1392273</td>\n",
       "      <td>0 days 00:00:00</td>\n",
       "      <td>0 days 00:11:04.880000</td>\n",
       "      <td>0 days 00:03:11.770000</td>\n",
       "    </tr>\n",
       "  </tbody>\n",
       "</table>\n",
       "</div>"
      ],
      "text/plain": [
       "             circom_time  circom_mem              ezkl_time  ezkl_mem  \\\n",
       "1 0 days 00:04:38.800000    85446120 0 days 00:00:33.200000   2869864   \n",
       "2 0 days 00:08:44.180000   129358852 0 days 00:00:36.450000   2857136   \n",
       "3 0 days 00:10:16.600000   136911572 0 days 00:03:08.110000  22516096   \n",
       "4 0 days 00:10:50.140000   138164812 0 days 00:03:08.130000  22510672   \n",
       "7 0 days 00:11:04.880000   137595576 0 days 00:03:11.770000  22512552   \n",
       "\n",
       "   circom_constrs  ezkl_rows                 opml_time  \\\n",
       "1        11378432     184408 0 days 00:00:00.040334380   \n",
       "2        16867552     224968 0 days 00:00:00.039514066   \n",
       "3        23101472    1373720 0 days 00:00:00.039434895   \n",
       "4        24725472    1385048 0 days 00:00:00.039542312   \n",
       "7        24741472    1392273           0 days 00:00:00   \n",
       "\n",
       "             circom_op_time              ezkl_op_time  \n",
       "1 0 days 00:04:38.840334380 0 days 00:00:33.240334380  \n",
       "2 0 days 00:08:44.219514066 0 days 00:00:36.489514066  \n",
       "3 0 days 00:10:16.639434895 0 days 00:03:08.149434895  \n",
       "4 0 days 00:10:50.179542312 0 days 00:03:08.169542312  \n",
       "7    0 days 00:11:04.880000    0 days 00:03:11.770000  "
      ]
     },
     "execution_count": 9,
     "metadata": {},
     "output_type": "execute_result"
    }
   ],
   "source": [
    "df"
   ]
  },
  {
   "cell_type": "code",
   "execution_count": 10,
   "metadata": {},
   "outputs": [],
   "source": [
    "df_pct = df[['circom_constrs', \"circom_op_time\", \"circom_mem\", \"ezkl_rows\", \"ezkl_op_time\", \"ezkl_mem\"]]"
   ]
  },
  {
   "cell_type": "code",
   "execution_count": 11,
   "metadata": {},
   "outputs": [
    {
     "data": {
      "text/html": [
       "<div>\n",
       "<style scoped>\n",
       "    .dataframe tbody tr th:only-of-type {\n",
       "        vertical-align: middle;\n",
       "    }\n",
       "\n",
       "    .dataframe tbody tr th {\n",
       "        vertical-align: top;\n",
       "    }\n",
       "\n",
       "    .dataframe thead th {\n",
       "        text-align: right;\n",
       "    }\n",
       "</style>\n",
       "<table border=\"1\" class=\"dataframe\">\n",
       "  <thead>\n",
       "    <tr style=\"text-align: right;\">\n",
       "      <th></th>\n",
       "      <th>circom_constrs</th>\n",
       "      <th>circom_op_time</th>\n",
       "      <th>circom_mem</th>\n",
       "      <th>ezkl_rows</th>\n",
       "      <th>ezkl_op_time</th>\n",
       "      <th>ezkl_mem</th>\n",
       "    </tr>\n",
       "  </thead>\n",
       "  <tbody>\n",
       "    <tr>\n",
       "      <th>1</th>\n",
       "      <td>45.989309</td>\n",
       "      <td>41.938445</td>\n",
       "      <td>62.099468</td>\n",
       "      <td>13.245104</td>\n",
       "      <td>17.333438</td>\n",
       "      <td>12.74784</td>\n",
       "    </tr>\n",
       "    <tr>\n",
       "      <th>2</th>\n",
       "      <td>68.175216</td>\n",
       "      <td>78.84423</td>\n",
       "      <td>94.013816</td>\n",
       "      <td>16.158325</td>\n",
       "      <td>19.027749</td>\n",
       "      <td>12.691302</td>\n",
       "    </tr>\n",
       "    <tr>\n",
       "      <th>3</th>\n",
       "      <td>93.371453</td>\n",
       "      <td>92.74447</td>\n",
       "      <td>99.502888</td>\n",
       "      <td>98.667431</td>\n",
       "      <td>98.112027</td>\n",
       "      <td>100.015742</td>\n",
       "    </tr>\n",
       "    <tr>\n",
       "      <th>4</th>\n",
       "      <td>99.935331</td>\n",
       "      <td>97.789006</td>\n",
       "      <td>100.413702</td>\n",
       "      <td>99.481064</td>\n",
       "      <td>98.122513</td>\n",
       "      <td>99.991649</td>\n",
       "    </tr>\n",
       "    <tr>\n",
       "      <th>7</th>\n",
       "      <td>100.0</td>\n",
       "      <td>100.0</td>\n",
       "      <td>100.0</td>\n",
       "      <td>100.0</td>\n",
       "      <td>100.0</td>\n",
       "      <td>100.0</td>\n",
       "    </tr>\n",
       "  </tbody>\n",
       "</table>\n",
       "</div>"
      ],
      "text/plain": [
       "  circom_constrs circom_op_time  circom_mem  ezkl_rows ezkl_op_time  \\\n",
       "1      45.989309      41.938445   62.099468  13.245104    17.333438   \n",
       "2      68.175216       78.84423   94.013816  16.158325    19.027749   \n",
       "3      93.371453       92.74447   99.502888  98.667431    98.112027   \n",
       "4      99.935331      97.789006  100.413702  99.481064    98.122513   \n",
       "7          100.0          100.0       100.0      100.0        100.0   \n",
       "\n",
       "     ezkl_mem  \n",
       "1    12.74784  \n",
       "2   12.691302  \n",
       "3  100.015742  \n",
       "4   99.991649  \n",
       "7       100.0  "
      ]
     },
     "execution_count": 11,
     "metadata": {},
     "output_type": "execute_result"
    }
   ],
   "source": [
    "df_pct = df_pct.div(df_pct.iloc[-1]).multiply(100)\n",
    "df_pct"
   ]
  },
  {
   "cell_type": "code",
   "execution_count": 12,
   "metadata": {},
   "outputs": [
    {
     "data": {
      "image/png": "[encoded data removed]",
      "text/plain": [
       "<Figure size 640x480 with 1 Axes>"
      ]
     },
     "metadata": {},
     "output_type": "display_data"
    }
   ],
   "source": [
    "# plot circom_time against circom_pct, ezkl_time against ezkl_pct, on the same graph\n",
    "\n",
    "import matplotlib.pyplot as plt\n",
    "\n",
    "plt.title(\"MNIST time benchmark\")\n",
    "plt.xlabel('model %')\n",
    "plt.ylabel('prove time %')\n",
    "\n",
    "plt.plot(df_pct['circom_constrs'], df_pct['circom_op_time'], color='tab:blue', label='circom', marker='+')\n",
    "plt.plot(df_pct['ezkl_rows'], df_pct['ezkl_op_time'], color='tab:red', label='ezkl', marker='x')\n",
    "\n",
    "plt.legend()\n",
    "plt.tight_layout()\n",
    "plt.show()"
   ]
  },
  {
   "cell_type": "code",
   "execution_count": 13,
   "metadata": {},
   "outputs": [
    {
     "data": {
      "image/png": "[encoded data removed]",
      "text/plain": [
       "<Figure size 640x480 with 1 Axes>"
      ]
     },
     "metadata": {},
     "output_type": "display_data"
    }
   ],
   "source": [
    "plt.title(\"MNIST memory benchmark\")\n",
    "plt.xlabel('model %')\n",
    "plt.ylabel('memory %')\n",
    "\n",
    "plt.plot(df_pct['circom_constrs'], df_pct['circom_mem'], color='tab:blue', label='circom', marker='+')\n",
    "plt.plot(df_pct['ezkl_rows'], df_pct['ezkl_mem'], color='tab:red', label='ezkl', marker='x')\n",
    "\n",
    "plt.legend()\n",
    "plt.tight_layout()\n",
    "plt.show()"
   ]
  },
  {
   "cell_type": "code",
   "execution_count": null,
   "metadata": {},
   "outputs": [],
   "source": []
  }
 ],
 "metadata": {
  "kernelspec": {
   "display_name": "oppai",
   "language": "python",
   "name": "python3"
  },
  "language_info": {
   "codemirror_mode": {
    "name": "ipython",
    "version": 3
   },
   "file_extension": ".py",
   "mimetype": "text/x-python",
   "name": "python",
   "nbconvert_exporter": "python",
   "pygments_lexer": "ipython3",
   "version": "3.10.13"
  }
 },
 "nbformat": 4,
 "nbformat_minor": 2
}
