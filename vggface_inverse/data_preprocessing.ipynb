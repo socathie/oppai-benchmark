{
 "cells": [
  {
   "cell_type": "code",
   "execution_count": null,
   "metadata": {},
   "outputs": [],
   "source": [
    "# images from https://vis-www.cs.umass.edu/lfw/"
   ]
  },
  {
   "cell_type": "code",
   "execution_count": null,
   "metadata": {},
   "outputs": [],
   "source": [
    "# example of face detection with mtcnn\n",
    "from matplotlib import pyplot\n",
    "from PIL import Image\n",
    "from numpy import asarray\n",
    "from mtcnn.mtcnn import MTCNN\n",
    " \n",
    "# extract a single face from a given photograph\n",
    "def extract_face(filename, required_size=(224, 224)):\n",
    "    # load image from file\n",
    "    pixels = pyplot.imread(filename)\n",
    "    # create the detector, using default weights\n",
    "    detector = MTCNN()\n",
    "    # detect faces in the image\n",
    "    results = detector.detect_faces(pixels)\n",
    "    # extract the bounding box from the first face\n",
    "    x1, y1, width, height = results[0]['box']\n",
    "    x2, y2 = x1 + width, y1 + height\n",
    "    # extract the face\n",
    "    face = pixels[y1:y2, x1:x2]\n",
    "    # resize pixels to the model size\n",
    "    image = Image.fromarray(face)\n",
    "    image = image.resize(required_size)\n",
    "    face_array = asarray(image)\n",
    "    return face_array"
   ]
  },
  {
   "cell_type": "code",
   "execution_count": null,
   "metadata": {},
   "outputs": [],
   "source": [
    "# read peopleDevTrain.txt and peopleDevTest.txt into df, one line per file, skipping first line, \\t separated\n",
    "import pandas as pd\n",
    "\n",
    "train = pd.read_csv('peopleDevTrain.txt', sep='\\t', header=None, names=['name', 'count'], skiprows=1)\n",
    "test = pd.read_csv('peopleDevTest.txt', sep='\\t', header=None, names=['name', 'count'], skiprows=1)\n",
    "\n",
    "# turn count from float to int\n",
    "train['count'] = train['count'].astype(int)\n",
    "test['count'] = test['count'].astype(int)\n",
    "\n",
    "# create filename column, for count more than 1, filename is name_0001.jpg, name_0002.jpg, split into different rows\n",
    "train['filename'] = train.apply(lambda x: [f'{x[\"name\"]}/{x[\"name\"]}_{i:04d}.jpg' for i in range(1, x['count']+1)], axis=1)\n",
    "train = train.explode('filename')\n",
    "\n",
    "test['filename'] = test.apply(lambda x: [f'{x[\"name\"]}/{x[\"name\"]}_{i:04d}.jpg' for i in range(1, x['count']+1)], axis=1)\n",
    "test = test.explode('filename')\n",
    "\n",
    "# apply extract_face to each filename\n",
    "train['face'] = train['filename'].apply(lambda x: extract_face(f'lfw-deepfunneled/{x}'))\n",
    "test['face'] = test['filename'].apply(lambda x: extract_face(f'lfw-deepfunneled/{x}'))"
   ]
  },
  {
   "cell_type": "code",
   "execution_count": null,
   "metadata": {},
   "outputs": [],
   "source": [
    "# save train and test\n",
    "train.to_pickle('train.pkl')\n",
    "test.to_pickle('test.pkl')"
   ]
  },
  {
   "cell_type": "code",
   "execution_count": null,
   "metadata": {},
   "outputs": [],
   "source": [
    "# plot first few images of face\n",
    "for i in range(9):\n",
    "    pyplot.subplot(330 + 1 + i)\n",
    "    pyplot.imshow(train['face'][i])"
   ]
  },
  {
   "cell_type": "code",
   "execution_count": null,
   "metadata": {},
   "outputs": [],
   "source": []
  },
  {
   "cell_type": "code",
   "execution_count": null,
   "metadata": {},
   "outputs": [],
   "source": []
  }
 ],
 "metadata": {
  "kernelspec": {
   "display_name": "oppai",
   "language": "python",
   "name": "python3"
  },
  "language_info": {
   "codemirror_mode": {
    "name": "ipython",
    "version": 3
   },
   "file_extension": ".py",
   "mimetype": "text/x-python",
   "name": "python",
   "nbconvert_exporter": "python",
   "pygments_lexer": "ipython3",
   "version": "3.10.13"
  }
 },
 "nbformat": 4,
 "nbformat_minor": 2
}
